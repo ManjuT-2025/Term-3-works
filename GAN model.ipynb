{
 "cells": [
  {
   "cell_type": "markdown",
   "metadata": {},
   "source": [
    "## **Objective**\n",
    "\n",
    "To create a model that generates images that look similar to handwritten Arabic digits\n",
    "\n",
    "\n",
    "## **Data**\n",
    "\n",
    "Obtained from Arabic Handwritten Digits Dataset | Kaggle, original source unknown.\n",
    "\n",
    "## **Problem Statement**\n",
    "\n",
    "You are working with a team that is developing an online game where users travel to an alien planet and try to learn the language, culture, religion, and science of the planetary society. The game designers would like a set of characters to represent digits, different from any of those used on earth. To develop this set of characters, your job is to train a GAN on Arabic Handwritten digits and use it to create new symbols for representing digits on an alien planet.\n"
   ]
  },
  {
   "cell_type": "markdown",
   "metadata": {},
   "source": [
    "# Data"
   ]
  },
  {
   "cell_type": "raw",
   "metadata": {},
   "source": [
    "Each row of the train and test datafiles contain gray scale values of a 28 x 28 image. Load these CSV files into pandas dataframes, Convert the dataframes into numpy arrays using pandas.values. Print the shape of each dataframe.\n",
    "Normalize both dataframes by dividing each value by 255. Reshape the array so each image is 28 x 28 using numpy.ndarray.reshape. Use matplotlib.plot.imshow and matplotlib.plot.subplot to give a plot of the first 25 training images in a 5x5 subplot, using the 'gray' colour map.\n",
    "Load the label CSV files into dataframes and convert them to numpy arrays using pandas.values. Reshape them into 2d numpy arrays."
   ]
  },
  {
   "cell_type": "code",
   "execution_count": 1,
   "metadata": {
    "tags": []
   },
   "outputs": [
    {
     "name": "stdout",
     "output_type": "stream",
     "text": [
      "the shape of the test images (9999, 784)\n",
      "the shape of the test label (9999, 1)\n",
      "the shape of the train images (59999, 784)\n",
      "the shape of the train label (59999, 1)\n",
      "\n",
      "After reshaping data\n",
      "the shape of the test images (9999, 28, 28)\n",
      "the shape of the train images (59999, 28, 28)\n",
      "the shape of the test label (9999, 1)\n",
      "the shape of the train label (59999, 1)\n"
     ]
    }
   ],
   "source": [
    "import pandas as pd\n",
    "import matplotlib.pyplot as plt\n",
    "import numpy as np\n",
    "\n",
    "# loading the dataset into  pandas dataframe. \n",
    "#Convert the dataframe to a numpy array using pandas.values. \n",
    "test_image = pd.read_csv('csvTestImages 10k x 784.csv').values\n",
    "test_label = pd.read_csv('csvTestLabel 10k x 1.csv').values\n",
    "train_image = pd.read_csv('csvTrainImages 60k x 784.csv').values\n",
    "train_label = pd.read_csv('csvTrainLabel 60k x 1.csv').values\n",
    "\n",
    "#Print the shape of the data.\n",
    "print('the shape of the test images',test_image.shape)\n",
    "print('the shape of the test label',test_label.shape)\n",
    "print('the shape of the train images',train_image.shape)\n",
    "print('the shape of the train label',train_label.shape)\n",
    "\n",
    "# Normalize and reshape the image data.\n",
    "# Normalize by dividing pixel values by 255.\n",
    "train_image = train_image / 255.0\n",
    "test_image  = test_image / 255.0\n",
    "\n",
    "# Reshape images to 28 x 28 images\n",
    "train_image = train_image.reshape(-1, 28, 28)\n",
    "\n",
    "test_image  = test_image.reshape(-1, 28, 28)\n",
    "# Reshape label to 2d arrays\n",
    "test_label = test_label.reshape(-1,1)\n",
    "train_label = train_label.reshape(-1,1)\n",
    "\n",
    "\n",
    "#Print again the shape of the data to check reshaping\n",
    "print('\\nAfter reshaping data')\n",
    "print('the shape of the test images',test_image.shape)\n",
    "print('the shape of the train images',train_image.shape)\n",
    "print('the shape of the test label',test_label.shape)\n",
    "print('the shape of the train label',train_label.shape)\n"
   ]
  },
  {
   "cell_type": "code",
   "execution_count": 2,
   "metadata": {},
   "outputs": [
    {
     "data": {
      "image/png": "[encoded data removed]",
      "text/plain": [
       "<Figure size 720x504 with 25 Axes>"
      ]
     },
     "metadata": {
      "needs_background": "light"
     },
     "output_type": "display_data"
    }
   ],
   "source": [
    "#Use matplotlib.plot.imshow and matplotlib.plot.subplot to give a plot of the first twenty five images using the 'gray' colour map. \n",
    "plt.figure(figsize=(10, 7))\n",
    "for i in range(25):\n",
    "    plt.subplot(5, 5, i + 1)\n",
    "    plt.imshow(train_image[i], cmap='gray')\n",
    "    plt.axis('off')\n",
    "plt.show()"
   ]
  },
  {
   "cell_type": "markdown",
   "metadata": {},
   "source": [
    "# Modeling"
   ]
  },
  {
   "cell_type": "code",
   "execution_count": 3,
   "metadata": {},
   "outputs": [
    {
     "name": "stdout",
     "output_type": "stream",
     "text": [
      "\n",
      "After reshaping data\n",
      "the shape of the test images (9999, 28, 28, 1)\n",
      "the shape of the train images (59999, 28, 28, 1)\n"
     ]
    }
   ],
   "source": [
    "train_image = np.expand_dims(train_image, axis=-1)  \n",
    "test_image  = np.expand_dims(test_image, axis=-1)   \n",
    "print('\\nAfter reshaping data')\n",
    "print('the shape of the test images',test_image.shape)\n",
    "print('the shape of the train images',train_image.shape)"
   ]
  },
  {
   "cell_type": "code",
   "execution_count": 4,
   "metadata": {},
   "outputs": [],
   "source": [
    "# Import the required library functions\n",
    "import numpy as np\n",
    "import matplotlib.pyplot as plt\n",
    "from matplotlib import pyplot\n",
    "import tensorflow as tf\n",
    "from tensorflow.keras.layers import Input\n",
    "from tensorflow.keras.initializers import RandomNormal\n",
    "from tensorflow.keras.models import Model, Sequential\n",
    "from tensorflow.keras.layers import Reshape, Dense, Dropout, Flatten,Activation\n",
    "from tensorflow.keras.layers import LeakyReLU,BatchNormalization\n",
    "from tensorflow.keras.layers import Conv2D, UpSampling2D,Conv2DTranspose\n",
    "from tensorflow.keras.datasets import mnist\n",
    "from tensorflow.keras.optimizers import Adam\n",
    "from tensorflow.keras import models, layers"
   ]
  },
  {
   "cell_type": "code",
   "execution_count": 5,
   "metadata": {},
   "outputs": [],
   "source": [
    "X_train = train_image\n",
    "X_test = test_image\n",
    "\n",
    "y_train = train_label\n",
    "y_test = test_label"
   ]
  },
  {
   "cell_type": "code",
   "execution_count": 6,
   "metadata": {},
   "outputs": [],
   "source": [
    "# Function to generate real data samples\n",
    "def generate_real_samples(X, n_samples):\n",
    "    idx = np.random.randint(0, X.shape[0], n_samples)\n",
    "    X_real = X[idx]\n",
    "    y_real = np.ones((n_samples, 1))\n",
    "    return X_real, y_real"
   ]
  },
  {
   "cell_type": "code",
   "execution_count": 7,
   "metadata": {},
   "outputs": [],
   "source": [
    "# Function to generate latent points\n",
    "def generate_latent_points(latent_dim, n_samples):\n",
    "    return np.random.randn(n_samples, latent_dim)"
   ]
  },
  {
   "cell_type": "code",
   "execution_count": 38,
   "metadata": {},
   "outputs": [
    {
     "name": "stdout",
     "output_type": "stream",
     "text": [
      "Model: \"sequential_15\"\n",
      "_________________________________________________________________\n",
      "Layer (type)                 Output Shape              Param #   \n",
      "=================================================================\n",
      "dense_39 (Dense)             (None, 512)               51712     \n",
      "_________________________________________________________________\n",
      "batch_normalization_20 (Batc (None, 512)               2048      \n",
      "_________________________________________________________________\n",
      "dense_40 (Dense)             (None, 256)               131328    \n",
      "_________________________________________________________________\n",
      "batch_normalization_21 (Batc (None, 256)               1024      \n",
      "_________________________________________________________________\n",
      "dense_41 (Dense)             (None, 126)               32382     \n",
      "_________________________________________________________________\n",
      "batch_normalization_22 (Batc (None, 126)               504       \n",
      "_________________________________________________________________\n",
      "dense_42 (Dense)             (None, 784)               99568     \n",
      "_________________________________________________________________\n",
      "reshape_7 (Reshape)          (None, 28, 28, 1)         0         \n",
      "=================================================================\n",
      "Total params: 318,566\n",
      "Trainable params: 316,778\n",
      "Non-trainable params: 1,788\n",
      "_________________________________________________________________\n"
     ]
    }
   ],
   "source": [
    "# Define generator\n",
    "\n",
    "def define_generator(latent_dim):\n",
    "    model = models.Sequential()\n",
    "    model.add(layers.Dense(512, activation='relu', input_dim=latent_dim))\n",
    "    model.add(layers.BatchNormalization())\n",
    "    model.add(layers.Dense(256, activation='relu'))\n",
    "    model.add(layers.BatchNormalization())\n",
    "    model.add(layers.Dense(126, activation='relu'))\n",
    "    model.add(layers.BatchNormalization())\n",
    "    model.add(layers.Dense(28*28, activation='relu'))\n",
    "    model.add(layers.Reshape((28,28,1)))\n",
    "    return model\n",
    "\n",
    "# example instantiation\n",
    "latent_dim = 100\n",
    "generator = define_generator(latent_dim)\n",
    "generator.summary()"
   ]
  },
  {
   "cell_type": "code",
   "execution_count": 39,
   "metadata": {},
   "outputs": [],
   "source": [
    "# Generate fake samples\n",
    "def generate_fake_samples(generator, latent_dim, n_samples):\n",
    "    z_input = generate_latent_points(latent_dim, n_samples)\n",
    "    X_fake = generator.predict(z_input, verbose=0)\n",
    "    y_fake = np.zeros((n_samples, 1))\n",
    "    return X_fake, y_fake"
   ]
  },
  {
   "cell_type": "code",
   "execution_count": 40,
   "metadata": {},
   "outputs": [
    {
     "name": "stdout",
     "output_type": "stream",
     "text": [
      "Model: \"sequential_16\"\n",
      "_________________________________________________________________\n",
      "Layer (type)                 Output Shape              Param #   \n",
      "=================================================================\n",
      "flatten_4 (Flatten)          (None, 784)               0         \n",
      "_________________________________________________________________\n",
      "dense_43 (Dense)             (None, 512)               401920    \n",
      "_________________________________________________________________\n",
      "dense_44 (Dense)             (None, 128)               65664     \n",
      "_________________________________________________________________\n",
      "dense_45 (Dense)             (None, 1)                 129       \n",
      "=================================================================\n",
      "Total params: 467,713\n",
      "Trainable params: 467,713\n",
      "Non-trainable params: 0\n",
      "_________________________________________________________________\n"
     ]
    }
   ],
   "source": [
    "# Build Discriminator\n",
    "\n",
    "def define_discriminator(in_shape=(28,28,1)):\n",
    "    model = models.Sequential()\n",
    "    model.add(layers.Flatten(input_shape=in_shape))\n",
    "    model.add(layers.Dense(512, activation='relu'))\n",
    "    model.add(layers.Dense(128, activation='relu'))\n",
    "    model.add(layers.Dense(1, activation='sigmoid'))\n",
    "    model.compile(optimizer='adam', loss='binary_crossentropy', metrics=['accuracy'])\n",
    "    return model\n",
    "\n",
    "discriminator = define_discriminator()\n",
    "discriminator.summary()"
   ]
  },
  {
   "cell_type": "code",
   "execution_count": 41,
   "metadata": {},
   "outputs": [],
   "source": [
    "# Define GAN \n",
    "def define_gan(generator, discriminator):\n",
    "    discriminator.trainable = False\n",
    "    model = models.Sequential()\n",
    "    model.add(generator)\n",
    "    model.add(discriminator)\n",
    "    model.compile(optimizer='adam', loss='binary_crossentropy')\n",
    "    return model\n",
    "\n",
    "gan_model = define_gan(generator, discriminator)"
   ]
  },
  {
   "cell_type": "code",
   "execution_count": 46,
   "metadata": {},
   "outputs": [],
   "source": [
    "# Training function\n",
    "def train_gan(generator, discriminator, gan_model, X, latent_dim, n_epochs=5000, n_batch=64):\n",
    "    half_batch = n_batch // 2\n",
    "    for epoch in range(n_epochs):\n",
    "        # real\n",
    "        X_real, y_real = generate_real_samples(X, half_batch)\n",
    "        d_loss_real, _ = discriminator.train_on_batch(X_real, y_real)\n",
    "        # fake\n",
    "        X_fake, y_fake = generate_fake_samples(generator, latent_dim, half_batch)\n",
    "        d_loss_fake, _ = discriminator.train_on_batch(X_fake, y_fake)\n",
    "        # train generator via GAN\n",
    "        z_input = generate_latent_points(latent_dim, n_batch)\n",
    "        y_gan = np.ones((n_batch, 1))\n",
    "        g_loss = gan_model.train_on_batch(z_input, y_gan)\n",
    "        # log\n",
    "        if (epoch+1) % 1000 == 0:\n",
    "            print(f\"Epoch {epoch+1}, d_real={d_loss_real:.3f}, d_fake={d_loss_fake:.3f}, g={g_loss:.3f}\")"
   ]
  },
  {
   "cell_type": "code",
   "execution_count": 48,
   "metadata": {},
   "outputs": [
    {
     "name": "stdout",
     "output_type": "stream",
     "text": [
      "Epoch 1000, d_real=0.042, d_fake=0.002, g=6.649\n",
      "Epoch 2000, d_real=0.060, d_fake=0.001, g=2.521\n",
      "Epoch 3000, d_real=0.000, d_fake=0.001, g=1.696\n",
      "Epoch 4000, d_real=0.009, d_fake=0.002, g=6.650\n",
      "Epoch 5000, d_real=0.000, d_fake=0.017, g=4.760\n"
     ]
    }
   ],
   "source": [
    "# Fit the GAN\n",
    "train_gan(generator, discriminator, gan_model, X_train, latent_dim, n_epochs=5000, n_batch=64)"
   ]
  },
  {
   "cell_type": "markdown",
   "metadata": {},
   "source": [
    "# Conclusion"
   ]
  },
  {
   "cell_type": "code",
   "execution_count": 49,
   "metadata": {},
   "outputs": [
    {
     "data": {
      "image/png": "[encoded data removed]",
      "text/plain": [
       "<Figure size 360x360 with 25 Axes>"
      ]
     },
     "metadata": {
      "needs_background": "light"
     },
     "output_type": "display_data"
    }
   ],
   "source": [
    "# Generate & plot 25 fake images\n",
    "X_fake, _ = generate_fake_samples(generator, latent_dim, 25)\n",
    "fig, axes = plt.subplots(5, 5, figsize=(5,5))\n",
    "for i, ax in enumerate(axes.flatten()):\n",
    "    ax.imshow(X_fake[i, :, :, 0], cmap='gray')\n",
    "    ax.axis('off')\n",
    "plt.suptitle('25 Generated Alien Digits')\n",
    "plt.show()"
   ]
  },
  {
   "cell_type": "markdown",
   "metadata": {},
   "source": [
    "We tried to train a bit longer (More epochs) to see if G can push g_loss further down."
   ]
  },
  {
   "cell_type": "code",
   "execution_count": 50,
   "metadata": {},
   "outputs": [
    {
     "data": {
      "image/png": "[encoded data removed]",
      "text/plain": [
       "<Figure size 360x144 with 10 Axes>"
      ]
     },
     "metadata": {
      "needs_background": "light"
     },
     "output_type": "display_data"
    }
   ],
   "source": [
    "# Select & display best 10 images\n",
    "\n",
    "fig, axes = plt.subplots(2, 5, figsize=(5,2))\n",
    "for i, ax in enumerate(axes.flatten()):\n",
    "    ax.imshow(X_fake[i, :, :, 0], cmap='gray')\n",
    "    ax.axis('off')\n",
    "plt.suptitle('Top 10 Alien Digits')\n",
    "plt.show()"
   ]
  },
  {
   "cell_type": "markdown",
   "metadata": {},
   "source": [
    "The images do not look like something aliens might use to represent digits because they look quite far from the original images. This was due to computational inefficiencies as such we could not generate those images representing the digits"
   ]
  },
  {
   "cell_type": "code",
   "execution_count": null,
   "metadata": {},
   "outputs": [],
   "source": []
  }
 ],
 "metadata": {
  "kernelspec": {
   "display_name": "Python 3",
   "language": "python",
   "name": "python3"
  },
  "language_info": {
   "codemirror_mode": {
    "name": "ipython",
    "version": 3
   },
   "file_extension": ".py",
   "mimetype": "text/x-python",
   "name": "python",
   "nbconvert_exporter": "python",
   "pygments_lexer": "ipython3",
   "version": "3.7.16"
  }
 },
 "nbformat": 4,
 "nbformat_minor": 5
}
