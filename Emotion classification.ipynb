{
 "cells": [
  {
   "cell_type": "markdown",
   "metadata": {},
   "source": [
    "# **Assignment 6: Emotion Classification**"
   ]
  },
  {
   "cell_type": "markdown",
   "metadata": {},
   "source": [
    "## **Objective**\n",
    "\n",
    "To create a model that can identify the emotion (joy, sadness, anger or fear) of a tweet.\n",
    "\n",
    "\n",
    "## **Data**\n",
    "\n",
    "The dataset is available at Emotion Classification NLP | Kaggle . Acknowledgment: WASSA-2017 Shared Task on Emotion Intensity. Saif M. Mohammad and Felipe Bravo-Marquez. In Proceedings of the EMNLP 2017 Workshop on Computational Approaches to Subjectivity, Sentiment, and Social Media (WASSA), September 2017, Copenhagen, Denmark. \n",
    "\n",
    "\n",
    "## **Problem Statement**\n",
    "\n",
    "Identifying the emotion behind human text is an important part of NLP for various applications including customer review analysis and artificial intelligence. The owner of Twitter, Elon Musk has fired everyone who understood emotion classification of tweets because they were not \"hard core\" enough, and now their existing model is no longer working. As a new employee, your job is to develop a model that can classify the emotional connotation behind tweets. Mr. Musk does not disclose why this is needed but laughs eerily whenever asked about it."
   ]
  },
  {
   "cell_type": "markdown",
   "metadata": {},
   "source": [
    "# Data"
   ]
  },
  {
   "cell_type": "raw",
   "metadata": {},
   "source": [
    "Load the three datafiles into training, validation, and testing dataframes."
   ]
  },
  {
   "cell_type": "code",
   "execution_count": 1,
   "metadata": {},
   "outputs": [],
   "source": [
    "import pandas as pd\n",
    "import numpy as np\n",
    "import seaborn as sns\n",
    "from sklearn.preprocessing import LabelEncoder \n",
    "import matplotlib.pyplot as plt\n",
    "from nltk.tokenize import sent_tokenize, word_tokenize\n",
    "from nltk.corpus import stopwords\n",
    "from nltk.stem import PorterStemmer, WordNetLemmatizer\n",
    "from nltk.text import Text\n",
    "from sklearn.feature_extraction.text import TfidfVectorizer\n",
    "import string\n",
    "from nltk.corpus import stopwords\n",
    "from autocorrect import Speller\n",
    "import nltk\n",
    "from tensorflow.keras.preprocessing.text import Tokenizer\n",
    "from tensorflow.keras.preprocessing.sequence import pad_sequences\n",
    "from tensorflow.keras.models import Sequential\n",
    "from tensorflow.keras.layers import Embedding\n",
    "from tensorflow.keras.layers import LSTM\n",
    "from tensorflow.keras.layers import Dense\n",
    "from tensorflow.keras.layers import Dropout"
   ]
  },
  {
   "cell_type": "code",
   "execution_count": 2,
   "metadata": {},
   "outputs": [],
   "source": [
    "train = pd.read_csv('emotion-labels-train.csv')\n",
    "test = pd.read_csv('emotion-labels-test.csv')\n",
    "valid = pd.read_csv('emotion-labels-val.csv')"
   ]
  },
  {
   "cell_type": "raw",
   "metadata": {},
   "source": [
    "Use pandas.DataFrame.info to check if the entries are the correct datatype, and if there are any missing values. Use pandas.DataFrame.duplicates to check for duplicate entries. Fix the dataset so that there are no missing values, duplicate rows, or incorrect data types. Use markdown to make observations and explain what you have done."
   ]
  },
  {
   "cell_type": "code",
   "execution_count": 3,
   "metadata": {},
   "outputs": [
    {
     "data": {
      "text/plain": [
       "<bound method DataFrame.info of                                                    text    label\n",
       "0     Just got back from seeing @GaryDelaney in Burs...      joy\n",
       "1     Oh dear an evening of absolute hilarity I don'...      joy\n",
       "2     Been waiting all week for this game ❤️❤️❤️ #ch...      joy\n",
       "3     @gardiner_love : Thank you so much, Gloria! Yo...      joy\n",
       "4     I feel so blessed to work with the family that...      joy\n",
       "...                                                 ...      ...\n",
       "3608  @VivienLloyd Thank you so much! Just home - st...  sadness\n",
       "3609              Just put the winter duvet on ☃️❄️🌬☔️   sadness\n",
       "3610  @SilkInSide @TommyJoeRatliff that's so pretty!...  sadness\n",
       "3611  @BluesfestByron second artist announcement loo...  sadness\n",
       "3612  I can literally eat creamy pesto pasta topped ...  sadness\n",
       "\n",
       "[3613 rows x 2 columns]>"
      ]
     },
     "execution_count": 3,
     "metadata": {},
     "output_type": "execute_result"
    }
   ],
   "source": [
    "train.info"
   ]
  },
  {
   "cell_type": "code",
   "execution_count": 4,
   "metadata": {},
   "outputs": [
    {
     "data": {
      "text/plain": [
       "text     object\n",
       "label    object\n",
       "dtype: object"
      ]
     },
     "execution_count": 4,
     "metadata": {},
     "output_type": "execute_result"
    }
   ],
   "source": [
    "train.dtypes"
   ]
  },
  {
   "cell_type": "code",
   "execution_count": 5,
   "metadata": {},
   "outputs": [
    {
     "data": {
      "text/plain": [
       "text     0\n",
       "label    0\n",
       "dtype: int64"
      ]
     },
     "execution_count": 5,
     "metadata": {},
     "output_type": "execute_result"
    }
   ],
   "source": [
    "#checking null values\n",
    "train.isna().sum()"
   ]
  },
  {
   "cell_type": "code",
   "execution_count": 6,
   "metadata": {},
   "outputs": [
    {
     "data": {
      "text/plain": [
       "0"
      ]
     },
     "execution_count": 6,
     "metadata": {},
     "output_type": "execute_result"
    }
   ],
   "source": [
    "#checking duplicate values\n",
    "train.duplicated().sum()"
   ]
  },
  {
   "cell_type": "code",
   "execution_count": 7,
   "metadata": {},
   "outputs": [
    {
     "data": {
      "text/plain": [
       "<bound method DataFrame.info of                                                    text    label\n",
       "0     You must be knowing #blithe means (adj.)  Happ...      joy\n",
       "1     Old saying 'A #smile shared is one gained for ...      joy\n",
       "2     Bridget Jones' Baby was bloody hilarious 😅 #Br...      joy\n",
       "3     @Elaminova sparkling water makes your life spa...      joy\n",
       "4     I'm tired of everybody telling me to chill out...      joy\n",
       "...                                                 ...      ...\n",
       "3137          Why does Candice constantly pout #GBBO 💄😒  sadness\n",
       "3138  @redBus_in #unhappy with #redbus CC, when I ta...  sadness\n",
       "3139  @AceOperative789 no pull him afew weeks ago, s...  sadness\n",
       "3140  I'm buying art supplies and I'm debating how s...  sadness\n",
       "3141  @sainsburys Could you ask your Chafford Hundre...  sadness\n",
       "\n",
       "[3142 rows x 2 columns]>"
      ]
     },
     "execution_count": 7,
     "metadata": {},
     "output_type": "execute_result"
    }
   ],
   "source": [
    "test.info"
   ]
  },
  {
   "cell_type": "code",
   "execution_count": 8,
   "metadata": {},
   "outputs": [
    {
     "data": {
      "text/plain": [
       "text     0\n",
       "label    0\n",
       "dtype: int64"
      ]
     },
     "execution_count": 8,
     "metadata": {},
     "output_type": "execute_result"
    }
   ],
   "source": [
    "test.isna().sum()"
   ]
  },
  {
   "cell_type": "code",
   "execution_count": 9,
   "metadata": {},
   "outputs": [
    {
     "data": {
      "text/plain": [
       "0"
      ]
     },
     "execution_count": 9,
     "metadata": {},
     "output_type": "execute_result"
    }
   ],
   "source": [
    "test.duplicated().sum()"
   ]
  },
  {
   "cell_type": "code",
   "execution_count": 10,
   "metadata": {},
   "outputs": [
    {
     "data": {
      "text/plain": [
       "<bound method DataFrame.info of                                                   text    label\n",
       "0    @theclobra lol I thought maybe, couldn't decid...      joy\n",
       "1    Nawaz Sharif is getting more funnier than @kap...      joy\n",
       "2    Nawaz Sharif is getting more funnier than @kap...      joy\n",
       "3    @tomderivan73 😁...I'll just people watch and e...      joy\n",
       "4    I love my family so much #lucky #grateful #sma...      joy\n",
       "..                                                 ...      ...\n",
       "342  Common app just randomly logged me out as I wa...  sadness\n",
       "343  I'd rather laugh with the rarest genius, in be...  sadness\n",
       "344  If you #invest in my new #film I will stop ask...  sadness\n",
       "345  Just watched Django Unchained, Other people ma...  sadness\n",
       "346  @KeithOlbermann depressing how despicable Trum...  sadness\n",
       "\n",
       "[347 rows x 2 columns]>"
      ]
     },
     "execution_count": 10,
     "metadata": {},
     "output_type": "execute_result"
    }
   ],
   "source": [
    "valid.info"
   ]
  },
  {
   "cell_type": "code",
   "execution_count": 11,
   "metadata": {},
   "outputs": [
    {
     "data": {
      "text/plain": [
       "text     0\n",
       "label    0\n",
       "dtype: int64"
      ]
     },
     "execution_count": 11,
     "metadata": {},
     "output_type": "execute_result"
    }
   ],
   "source": [
    "valid.isna().sum()"
   ]
  },
  {
   "cell_type": "code",
   "execution_count": 12,
   "metadata": {},
   "outputs": [
    {
     "data": {
      "text/plain": [
       "0"
      ]
     },
     "execution_count": 12,
     "metadata": {},
     "output_type": "execute_result"
    }
   ],
   "source": [
    "valid.duplicated().sum()"
   ]
  },
  {
   "cell_type": "markdown",
   "metadata": {},
   "source": [
    "No missing values, no duplicates values in three dataset.\n",
    "Data type of dataset are object, which is correct data type"
   ]
  },
  {
   "cell_type": "raw",
   "metadata": {},
   "source": [
    "Move the labels into a separate dataframe and use sklearn.preprocessing.LabelEncoder to convert the string labels into integers. Reshape the labels into a 2d array. Determine which number has been assigned to each label and record this information in markdown."
   ]
  },
  {
   "cell_type": "code",
   "execution_count": 13,
   "metadata": {},
   "outputs": [],
   "source": [
    "train_label = train['label']\n",
    "train_feat = train.drop(columns = ['label']).astype(str)\n",
    "\n",
    "test_label = test['label']\n",
    "test_feat = test.drop(columns = ['label']).astype(str)\n",
    "\n",
    "valid_label = valid['label']\n",
    "valid_feat = valid.drop(columns = ['label']).astype(str)"
   ]
  },
  {
   "cell_type": "code",
   "execution_count": 14,
   "metadata": {},
   "outputs": [
    {
     "data": {
      "text/plain": [
       "text    @Singaholic121 Good morning, love! Happy first...\n",
       "Name: 6, dtype: object"
      ]
     },
     "execution_count": 14,
     "metadata": {},
     "output_type": "execute_result"
    }
   ],
   "source": [
    "train_feat.iloc[6]"
   ]
  },
  {
   "cell_type": "code",
   "execution_count": 15,
   "metadata": {},
   "outputs": [],
   "source": [
    "#encoding label data\n",
    "encod = LabelEncoder()\n",
    "train_label_enc = encod.fit_transform(train_label)\n",
    "train_label_enc = np.array(train_label_enc)\n",
    "train_label_enc = train_label_enc.reshape(3613, 1)\n",
    "\n",
    "test_label_enc = encod.fit_transform(test_label)\n",
    "test_label_enc = np.array(test_label_enc)\n",
    "test_label_enc = test_label_enc.reshape(3142, 1)\n",
    "\n",
    "valid_label_enc = encod.fit_transform(valid_label)\n",
    "valid_label_enc = np.array(valid_label_enc)\n",
    "valid_label_enc = valid_label_enc.reshape(347, 1)"
   ]
  },
  {
   "cell_type": "code",
   "execution_count": 16,
   "metadata": {},
   "outputs": [
    {
     "data": {
      "text/plain": [
       "(3613, 1)"
      ]
     },
     "execution_count": 16,
     "metadata": {},
     "output_type": "execute_result"
    }
   ],
   "source": [
    "train_label_enc.shape"
   ]
  },
  {
   "cell_type": "code",
   "execution_count": 17,
   "metadata": {},
   "outputs": [
    {
     "data": {
      "text/plain": [
       "array([[2],\n",
       "       [2],\n",
       "       [2],\n",
       "       ...,\n",
       "       [3],\n",
       "       [3],\n",
       "       [3]])"
      ]
     },
     "execution_count": 17,
     "metadata": {},
     "output_type": "execute_result"
    }
   ],
   "source": [
    "train_label_enc"
   ]
  },
  {
   "cell_type": "code",
   "execution_count": 18,
   "metadata": {},
   "outputs": [
    {
     "name": "stdout",
     "output_type": "stream",
     "text": [
      "{2: 'joy', 1: 'fear', 0: 'anger', 3: 'sadness'}\n"
     ]
    }
   ],
   "source": [
    "#Printing unique values\n",
    "valid_dict = valid_label_enc\n",
    "valid_dict = valid_dict.flatten()\n",
    "values = dict(zip(valid_dict, valid_label))\n",
    "print(values)"
   ]
  },
  {
   "cell_type": "raw",
   "metadata": {},
   "source": [
    "Create a bar plot using seaborn.barplot of the number of elements in each category over the entire dataset. Use markdown to comment on how well balanced the dataset is."
   ]
  },
  {
   "cell_type": "code",
   "execution_count": 19,
   "metadata": {},
   "outputs": [
    {
     "name": "stdout",
     "output_type": "stream",
     "text": [
      "(3613, 1)\n",
      "(347, 1)\n",
      "(3142, 1)\n"
     ]
    }
   ],
   "source": [
    "print(train_label_enc.shape)\n",
    "print(valid_label_enc.shape)\n",
    "print(test_label_enc.shape)"
   ]
  },
  {
   "cell_type": "code",
   "execution_count": 20,
   "metadata": {},
   "outputs": [
    {
     "data": {
      "image/png": "[encoded data removed]",
      "text/plain": [
       "<Figure size 720x576 with 1 Axes>"
      ]
     },
     "metadata": {
      "needs_background": "light"
     },
     "output_type": "display_data"
    }
   ],
   "source": [
    "#plotting no of elements in each unique value\n",
    "plt.figure(figsize = (10, 8))\n",
    "\n",
    "# concatenating the labels\n",
    "label = np.concatenate((train_label_enc, valid_label_enc, test_label_enc), axis = 0)\n",
    "\n",
    "# counting elements in each category\n",
    "unique, count = np.unique(label, return_counts=True)\n",
    "\n",
    "\n",
    "sns.barplot(x=unique,y = count )\n",
    "plt.xlabel('Category')\n",
    "plt.ylabel(\"Count\")\n",
    "plt.title('The number of elements in each category over the entire dataset')\n",
    "plt.show()"
   ]
  },
  {
   "cell_type": "raw",
   "metadata": {},
   "source": [
    "Perform the following steps on the tweets in an order of your choosing:\n",
    "Tokenize each tweet into words.\n",
    "If you think it is useful, use Speller from the autocorrect library to correct spelling mistakes. \n",
    "Create a list of stopwords (using publicly available lists and/or adding your own) and remove these.\n",
    "Use PorterStemmer or WordNetLemmatizer from nltk.stem on the text.\n",
    "Use regular expressions (the re library) to do any additional cleanup of the text you wish to do."
   ]
  },
  {
   "cell_type": "code",
   "execution_count": 21,
   "metadata": {},
   "outputs": [
    {
     "name": "stderr",
     "output_type": "stream",
     "text": [
      "[nltk_data] Downloading package stopwords to\n",
      "[nltk_data]     C:\\Users\\Manju\\AppData\\Roaming\\nltk_data...\n",
      "[nltk_data]   Package stopwords is already up-to-date!\n"
     ]
    }
   ],
   "source": [
    "data_word = [train_feat, test_feat, valid_feat]\n",
    "#spel  corrector\n",
    "spell = Speller()\n",
    "nltk.download(\"stopwords\")\n",
    "#stopwords\n",
    "stop_words = set(stopwords.words('english'))\n",
    "\n",
    "\n",
    "\n",
    "for tweet in data_word:\n",
    "    # tokenizing sentence\n",
    "    tweet['tokenised_sentences'] = tweet['text'].apply(lambda x: sent_tokenize(x) if isinstance(x, str) else [])\n",
    "    # tokenizing sentence to words\n",
    "    tweet['tokenised_words'] = tweet['tokenised_sentences'].apply(\n",
    "        lambda sentences: [word for sent in sentences for word in word_tokenize(sent)] if isinstance(sentences, list) else []\n",
    "    )\n",
    "    # spell correction\n",
    "    tweet['spell_corrected'] = tweet['tokenised_words'].apply(\n",
    "        lambda tokens: [spell(word) for word in tokens] if isinstance(tokens, list) else []\n",
    "    )\n",
    "    # removing stop words\n",
    "    tweet['stop_word'] = tweet['spell_corrected'].apply(\n",
    "        lambda tokens: [word for word in tokens if word.lower() not in stop_words] if isinstance(tokens, list) else []\n",
    "    )\n",
    "    # words to lowercase\n",
    "    tweet['lower_cased'] = tweet['stop_word'].apply(\n",
    "        lambda tokens: [word.lower() for word in tokens] if isinstance(tokens, list) else []\n",
    "    )"
   ]
  },
  {
   "cell_type": "code",
   "execution_count": 22,
   "metadata": {},
   "outputs": [],
   "source": [
    "#Removing unecesary columns\n",
    "test_feat = test_feat.drop(columns = ['tokenised_sentences','tokenised_words','spell_corrected','stop_word'])\n",
    "train_feat = train_feat.drop(columns = ['tokenised_sentences','tokenised_words','spell_corrected','stop_word'])\n",
    "valid_feat = valid_feat.drop(columns = ['tokenised_sentences','tokenised_words','spell_corrected','stop_word'])"
   ]
  },
  {
   "cell_type": "code",
   "execution_count": 23,
   "metadata": {},
   "outputs": [
    {
     "data": {
      "text/html": [
       "<div>\n",
       "<style scoped>\n",
       "    .dataframe tbody tr th:only-of-type {\n",
       "        vertical-align: middle;\n",
       "    }\n",
       "\n",
       "    .dataframe tbody tr th {\n",
       "        vertical-align: top;\n",
       "    }\n",
       "\n",
       "    .dataframe thead th {\n",
       "        text-align: right;\n",
       "    }\n",
       "</style>\n",
       "<table border=\"1\" class=\"dataframe\">\n",
       "  <thead>\n",
       "    <tr style=\"text-align: right;\">\n",
       "      <th></th>\n",
       "      <th>text</th>\n",
       "      <th>lower_cased</th>\n",
       "    </tr>\n",
       "  </thead>\n",
       "  <tbody>\n",
       "    <tr>\n",
       "      <td>0</td>\n",
       "      <td>You must be knowing #blithe means (adj.)  Happ...</td>\n",
       "      <td>[must, knowing, #, elite, means, (, adj, ., ),...</td>\n",
       "    </tr>\n",
       "    <tr>\n",
       "      <td>1</td>\n",
       "      <td>Old saying 'A #smile shared is one gained for ...</td>\n",
       "      <td>[old, saying, ', #, smile, shared, one, gained...</td>\n",
       "    </tr>\n",
       "    <tr>\n",
       "      <td>2</td>\n",
       "      <td>Bridget Jones' Baby was bloody hilarious 😅 #Br...</td>\n",
       "      <td>[bridge, jones, ', baby, bloody, hilarious, 😅,...</td>\n",
       "    </tr>\n",
       "    <tr>\n",
       "      <td>3</td>\n",
       "      <td>@Elaminova sparkling water makes your life spa...</td>\n",
       "      <td>[@, elaminova, sparkling, water, makes, life, ...</td>\n",
       "    </tr>\n",
       "    <tr>\n",
       "      <td>4</td>\n",
       "      <td>I'm tired of everybody telling me to chill out...</td>\n",
       "      <td>['m, tired, everybody, telling, chill, everyth...</td>\n",
       "    </tr>\n",
       "    <tr>\n",
       "      <td>...</td>\n",
       "      <td>...</td>\n",
       "      <td>...</td>\n",
       "    </tr>\n",
       "    <tr>\n",
       "      <td>3137</td>\n",
       "      <td>Why does Candice constantly pout #GBBO 💄😒</td>\n",
       "      <td>[candle, constantly, #, gb, 💄😒]</td>\n",
       "    </tr>\n",
       "    <tr>\n",
       "      <td>3138</td>\n",
       "      <td>@redBus_in #unhappy with #redbus CC, when I ta...</td>\n",
       "      <td>[@, radius_in, #, unhappy, #, radius, cc, ,, t...</td>\n",
       "    </tr>\n",
       "    <tr>\n",
       "      <td>3139</td>\n",
       "      <td>@AceOperative789 no pull him afew weeks ago, s...</td>\n",
       "      <td>[@, aceoperative789, pull, weeks, ago, ,, sadl...</td>\n",
       "    </tr>\n",
       "    <tr>\n",
       "      <td>3140</td>\n",
       "      <td>I'm buying art supplies and I'm debating how s...</td>\n",
       "      <td>['m, buying, art, supplies, 'm, debating, seri...</td>\n",
       "    </tr>\n",
       "    <tr>\n",
       "      <td>3141</td>\n",
       "      <td>@sainsburys Could you ask your Chafford Hundre...</td>\n",
       "      <td>[@, sainsburys, could, ask, crawford, hundred,...</td>\n",
       "    </tr>\n",
       "  </tbody>\n",
       "</table>\n",
       "<p>3142 rows × 2 columns</p>\n",
       "</div>"
      ],
      "text/plain": [
       "                                                   text  \\\n",
       "0     You must be knowing #blithe means (adj.)  Happ...   \n",
       "1     Old saying 'A #smile shared is one gained for ...   \n",
       "2     Bridget Jones' Baby was bloody hilarious 😅 #Br...   \n",
       "3     @Elaminova sparkling water makes your life spa...   \n",
       "4     I'm tired of everybody telling me to chill out...   \n",
       "...                                                 ...   \n",
       "3137          Why does Candice constantly pout #GBBO 💄😒   \n",
       "3138  @redBus_in #unhappy with #redbus CC, when I ta...   \n",
       "3139  @AceOperative789 no pull him afew weeks ago, s...   \n",
       "3140  I'm buying art supplies and I'm debating how s...   \n",
       "3141  @sainsburys Could you ask your Chafford Hundre...   \n",
       "\n",
       "                                            lower_cased  \n",
       "0     [must, knowing, #, elite, means, (, adj, ., ),...  \n",
       "1     [old, saying, ', #, smile, shared, one, gained...  \n",
       "2     [bridge, jones, ', baby, bloody, hilarious, 😅,...  \n",
       "3     [@, elaminova, sparkling, water, makes, life, ...  \n",
       "4     ['m, tired, everybody, telling, chill, everyth...  \n",
       "...                                                 ...  \n",
       "3137                    [candle, constantly, #, gb, 💄😒]  \n",
       "3138  [@, radius_in, #, unhappy, #, radius, cc, ,, t...  \n",
       "3139  [@, aceoperative789, pull, weeks, ago, ,, sadl...  \n",
       "3140  ['m, buying, art, supplies, 'm, debating, seri...  \n",
       "3141  [@, sainsburys, could, ask, crawford, hundred,...  \n",
       "\n",
       "[3142 rows x 2 columns]"
      ]
     },
     "execution_count": 23,
     "metadata": {},
     "output_type": "execute_result"
    }
   ],
   "source": [
    "test_feat"
   ]
  },
  {
   "cell_type": "raw",
   "metadata": {},
   "source": [
    "Print out the words in the first five processed tweets along with their labels. (Viewing this may give you additional ideas for the previous steps.)\n",
    "Create a histogram showing the lengths of the sequences after preprocessing. Comment on how this helps you to choose the maximum length hyperparameter used when truncating/padding the input sequences."
   ]
  },
  {
   "cell_type": "code",
   "execution_count": 24,
   "metadata": {},
   "outputs": [
    {
     "data": {
      "text/html": [
       "<div>\n",
       "<style scoped>\n",
       "    .dataframe tbody tr th:only-of-type {\n",
       "        vertical-align: middle;\n",
       "    }\n",
       "\n",
       "    .dataframe tbody tr th {\n",
       "        vertical-align: top;\n",
       "    }\n",
       "\n",
       "    .dataframe thead th {\n",
       "        text-align: right;\n",
       "    }\n",
       "</style>\n",
       "<table border=\"1\" class=\"dataframe\">\n",
       "  <thead>\n",
       "    <tr style=\"text-align: right;\">\n",
       "      <th></th>\n",
       "      <th>text</th>\n",
       "      <th>lower_cased</th>\n",
       "      <th>label</th>\n",
       "    </tr>\n",
       "  </thead>\n",
       "  <tbody>\n",
       "    <tr>\n",
       "      <td>0</td>\n",
       "      <td>Just got back from seeing @GaryDelaney in Burs...</td>\n",
       "      <td>[got, back, seeing, @, garydelaney, burslem, ....</td>\n",
       "      <td>joy</td>\n",
       "    </tr>\n",
       "    <tr>\n",
       "      <td>1</td>\n",
       "      <td>Oh dear an evening of absolute hilarity I don'...</td>\n",
       "      <td>[oh, dear, evening, absolute, clarity, n't, th...</td>\n",
       "      <td>joy</td>\n",
       "    </tr>\n",
       "    <tr>\n",
       "      <td>2</td>\n",
       "      <td>Been waiting all week for this game ❤️❤️❤️ #ch...</td>\n",
       "      <td>[waiting, week, game, ❤️❤️❤️, #, cheer, #, fri...</td>\n",
       "      <td>joy</td>\n",
       "    </tr>\n",
       "    <tr>\n",
       "      <td>3</td>\n",
       "      <td>@gardiner_love : Thank you so much, Gloria! Yo...</td>\n",
       "      <td>[@, gardener_love, :, thank, much, ,, gloria, ...</td>\n",
       "      <td>joy</td>\n",
       "    </tr>\n",
       "    <tr>\n",
       "      <td>4</td>\n",
       "      <td>I feel so blessed to work with the family that...</td>\n",
       "      <td>[feel, blessed, work, family, nanny, ❤️, nothi...</td>\n",
       "      <td>joy</td>\n",
       "    </tr>\n",
       "  </tbody>\n",
       "</table>\n",
       "</div>"
      ],
      "text/plain": [
       "                                                text  \\\n",
       "0  Just got back from seeing @GaryDelaney in Burs...   \n",
       "1  Oh dear an evening of absolute hilarity I don'...   \n",
       "2  Been waiting all week for this game ❤️❤️❤️ #ch...   \n",
       "3  @gardiner_love : Thank you so much, Gloria! Yo...   \n",
       "4  I feel so blessed to work with the family that...   \n",
       "\n",
       "                                         lower_cased label  \n",
       "0  [got, back, seeing, @, garydelaney, burslem, ....   joy  \n",
       "1  [oh, dear, evening, absolute, clarity, n't, th...   joy  \n",
       "2  [waiting, week, game, ❤️❤️❤️, #, cheer, #, fri...   joy  \n",
       "3  [@, gardener_love, :, thank, much, ,, gloria, ...   joy  \n",
       "4  [feel, blessed, work, family, nanny, ❤️, nothi...   joy  "
      ]
     },
     "execution_count": 24,
     "metadata": {},
     "output_type": "execute_result"
    }
   ],
   "source": [
    "print_five = pd.concat([train_feat.iloc[0:5], train_label.iloc[0:5]], axis=1)\n",
    "print_five"
   ]
  },
  {
   "cell_type": "code",
   "execution_count": 51,
   "metadata": {},
   "outputs": [
    {
     "data": {
      "image/png": "[encoded data removed]",
      "text/plain": [
       "<Figure size 432x288 with 1 Axes>"
      ]
     },
     "metadata": {
      "needs_background": "light"
     },
     "output_type": "display_data"
    }
   ],
   "source": [
    "data_word = [train_feat, test_feat, valid_feat]\n",
    "\n",
    "for data in data_word:\n",
    "    data['length'] = data['lower_cased'].apply(len)\n",
    "    \n",
    "l = data['length']\n",
    "sns.histplot(l, bins=20, color='blue', edgecolor='black', alpha=0.7)\n",
    "\n",
    "# Add labels and title\n",
    "plt.title('Histogram of Sequence Lengths After Preprocessing', fontsize=16)\n",
    "plt.ylabel('Sequence Length', fontsize=12)\n",
    "plt.xlabel('Frequency', fontsize=12)\n",
    "plt.xticks(fontsize=10)\n",
    "plt.yticks(fontsize=10)\n",
    "plt.show()"
   ]
  },
  {
   "cell_type": "markdown",
   "metadata": {},
   "source": [
    "After training the model and hyperparameter tuning, for max_lenght as 7, we got good accuracy and validation. Most of the sequence in our dataset have this length as we can see our histogram."
   ]
  },
  {
   "cell_type": "markdown",
   "metadata": {},
   "source": [
    "## Modelling"
   ]
  },
  {
   "cell_type": "code",
   "execution_count": 71,
   "metadata": {},
   "outputs": [
    {
     "name": "stdout",
     "output_type": "stream",
     "text": [
      "Train on 3613 samples\n",
      "Epoch 1/10\n",
      "3613/3613 [==============================] - 4s 1ms/sample - loss: 1.3395 - accuracy: 0.3479\n",
      "Epoch 2/10\n",
      "3613/3613 [==============================] - 1s 359us/sample - loss: 1.0801 - accuracy: 0.5364\n",
      "Epoch 3/10\n",
      "3613/3613 [==============================] - 2s 445us/sample - loss: 0.9016 - accuracy: 0.6092\n",
      "Epoch 4/10\n",
      "3613/3613 [==============================] - 2s 525us/sample - loss: 0.8596 - accuracy: 0.6161\n",
      "Epoch 5/10\n",
      "3613/3613 [==============================] - 2s 497us/sample - loss: 0.8404 - accuracy: 0.6344\n",
      "Epoch 6/10\n",
      "3613/3613 [==============================] - 1s 364us/sample - loss: 0.8214 - accuracy: 0.6413 - loss: 0.8058 - accuracy: 0.64 - ETA: 0s - loss: 0.8128 \n",
      "Epoch 7/10\n",
      "3613/3613 [==============================] - 1s 356us/sample - loss: 0.8136 - accuracy: 0.6468\n",
      "Epoch 8/10\n",
      "3613/3613 [==============================] - 1s 358us/sample - loss: 0.8018 - accuracy: 0.6454 - loss: 0.8017 - accura\n",
      "Epoch 9/10\n",
      "3613/3613 [==============================] - 1s 373us/sample - loss: 0.7872 - accuracy: 0.6540\n",
      "Epoch 10/10\n",
      "3613/3613 [==============================] - 1s 340us/sample - loss: 0.7799 - accuracy: 0.6513 - loss: 0.7774 - accuracy: \n"
     ]
    }
   ],
   "source": [
    "\n",
    "\n",
    "\n",
    "# Tokenizer and sequence preparation \n",
    "tokenizer = Tokenizer(num_words=200)\n",
    "tokenizer.fit_on_texts(train_feat['lower_cased'])\n",
    "sequences = tokenizer.texts_to_sequences(train_feat['lower_cased'])\n",
    "# Pad sequences \n",
    "max_length = 10 \n",
    "padded_sequences = pad_sequences(sequences, maxlen=max_length)\n",
    "# Build the model \n",
    "model = Sequential([\n",
    "    Embedding(input_dim=200, output_dim=128, input_length=max_length),\n",
    "    LSTM(64, return_sequences=True),\n",
    "    Dropout(0.5),\n",
    "    LSTM(32),\n",
    "    Dense(4, activation='softmax') ]) # 4 classes: joy, sadness, anger, fear ])\n",
    "\n",
    "model.compile(optimizer='adam', loss='sparse_categorical_crossentropy', metrics=['accuracy'])\n",
    "# Train the model \n",
    "history = model.fit(padded_sequences, train_label_enc, epochs=10, batch_size=32)"
   ]
  },
  {
   "cell_type": "code",
   "execution_count": 72,
   "metadata": {},
   "outputs": [
    {
     "data": {
      "image/png": "[encoded data removed]",
      "text/plain": [
       "<Figure size 432x288 with 2 Axes>"
      ]
     },
     "metadata": {
      "needs_background": "light"
     },
     "output_type": "display_data"
    },
    {
     "name": "stdout",
     "output_type": "stream",
     "text": [
      "Validation Accuracy: 0.4553314121037464\n"
     ]
    }
   ],
   "source": [
    "\n",
    "val_padded = pad_sequences(valid_label_enc, maxlen=max_length)\n",
    "val_predictions = model.predict(val_padded)\n",
    "val_labels = valid_label_enc  \n",
    "from sklearn.metrics import confusion_matrix, accuracy_score\n",
    "import seaborn as sns\n",
    "# Confusion matrix \n",
    "conf_matrix = confusion_matrix(val_labels, val_predictions.argmax(axis=1))\n",
    "sns.heatmap(conf_matrix, annot=True, fmt='d', cmap='Blues')\n",
    "plt.xlabel('Predicted')\n",
    "plt.ylabel('True')\n",
    "plt.title('Validation Confusion Matrix')\n",
    "plt.show()\n",
    "# Validation accuracy \n",
    "val_accuracy = accuracy_score(val_labels, val_predictions.argmax(axis=1))\n",
    "print(\"Validation Accuracy:\", val_accuracy)"
   ]
  },
  {
   "cell_type": "code",
   "execution_count": 73,
   "metadata": {},
   "outputs": [
    {
     "name": "stdout",
     "output_type": "stream",
     "text": [
      "Train on 3613 samples\n",
      "Epoch 1/10\n",
      "3613/3613 [==============================] - 7s 2ms/sample - loss: 1.3406 - accuracy: 0.3476\n",
      "Epoch 2/10\n",
      "3613/3613 [==============================] - 4s 1ms/sample - loss: 1.0601 - accuracy: 0.5425\n",
      "Epoch 3/10\n",
      "3613/3613 [==============================] - 5s 1ms/sample - loss: 0.8891 - accuracy: 0.6045\n",
      "Epoch 4/10\n",
      "3613/3613 [==============================] - 4s 1ms/sample - loss: 0.8502 - accuracy: 0.6211\n",
      "Epoch 5/10\n",
      "3613/3613 [==============================] - 5s 1ms/sample - loss: 0.8281 - accuracy: 0.6263\n",
      "Epoch 6/10\n",
      "3613/3613 [==============================] - 5s 1ms/sample - loss: 0.8075 - accuracy: 0.6410\n",
      "Epoch 7/10\n",
      "3613/3613 [==============================] - 5s 1ms/sample - loss: 0.7950 - accuracy: 0.6430\n",
      "Epoch 8/10\n",
      "3613/3613 [==============================] - 5s 1ms/sample - loss: 0.7806 - accuracy: 0.6526\n",
      "Epoch 9/10\n",
      "3613/3613 [==============================] - 4s 1ms/sample - loss: 0.7704 - accuracy: 0.6579\n",
      "Epoch 10/10\n",
      "3613/3613 [==============================] - 5s 2ms/sample - loss: 0.7616 - accuracy: 0.6551\n"
     ]
    }
   ],
   "source": [
    "# model 2\n",
    "# Build the model \n",
    "\n",
    "max_length = 42 # changed max length\n",
    "padded_sequences = pad_sequences(sequences, maxlen=max_length)\n",
    "\n",
    "model = Sequential([\n",
    "    Embedding(input_dim=200, output_dim=128, input_length=max_length),\n",
    "    LSTM(64, return_sequences=True),\n",
    "    Dropout(0.2), # changed the dropout\n",
    "    LSTM(32),\n",
    "    Dense(4, activation='softmax') ]) # 4 classes: joy, sadness, anger, fear ])\n",
    "\n",
    "model.compile(optimizer='adam', loss='sparse_categorical_crossentropy', metrics=['accuracy'])\n",
    "# Train the model \n",
    "history = model.fit(padded_sequences, train_label_enc, epochs=10, batch_size=32)"
   ]
  },
  {
   "cell_type": "code",
   "execution_count": 74,
   "metadata": {},
   "outputs": [
    {
     "data": {
      "image/png": "[encoded data removed]",
      "text/plain": [
       "<Figure size 432x288 with 2 Axes>"
      ]
     },
     "metadata": {
      "needs_background": "light"
     },
     "output_type": "display_data"
    },
    {
     "name": "stdout",
     "output_type": "stream",
     "text": [
      "Validation Accuracy: 0.2420749279538905\n"
     ]
    }
   ],
   "source": [
    "# confusion matrix for model 2\n",
    "\n",
    "val_padded = pad_sequences(valid_label_enc, maxlen=max_length)\n",
    "val_predictions = model.predict(val_padded)\n",
    "val_labels = valid_label_enc  \n",
    "from sklearn.metrics import confusion_matrix, accuracy_score\n",
    "import seaborn as sns\n",
    "# Confusion matrix \n",
    "conf_matrix = confusion_matrix(val_labels, val_predictions.argmax(axis=1))\n",
    "sns.heatmap(conf_matrix, annot=True, fmt='d', cmap='Blues')\n",
    "plt.xlabel('Predicted')\n",
    "plt.ylabel('True')\n",
    "plt.title('Validation Confusion Matrix')\n",
    "plt.show()\n",
    "# Validation accuracy \n",
    "val_accuracy = accuracy_score(val_labels, val_predictions.argmax(axis=1))\n",
    "print(\"Validation Accuracy:\", val_accuracy)"
   ]
  },
  {
   "cell_type": "code",
   "execution_count": 77,
   "metadata": {},
   "outputs": [
    {
     "name": "stdout",
     "output_type": "stream",
     "text": [
      "Train on 3613 samples\n",
      "Epoch 1/10\n",
      "3613/3613 [==============================] - 4s 1ms/sample - loss: 1.3133 - accuracy: 0.3604\n",
      "Epoch 2/10\n",
      "3613/3613 [==============================] - 1s 273us/sample - loss: 1.0607 - accuracy: 0.5417\n",
      "Epoch 3/10\n",
      "3613/3613 [==============================] - 1s 279us/sample - loss: 0.9196 - accuracy: 0.5904 - los\n",
      "Epoch 4/10\n",
      "3613/3613 [==============================] - 1s 279us/sample - loss: 0.8729 - accuracy: 0.6125 - loss: 0.8638 - accu\n",
      "Epoch 5/10\n",
      "3613/3613 [==============================] - 1s 285us/sample - loss: 0.8562 - accuracy: 0.6219\n",
      "Epoch 6/10\n",
      "3613/3613 [==============================] - 1s 290us/sample - loss: 0.8408 - accuracy: 0.6277\n",
      "Epoch 7/10\n",
      "3613/3613 [==============================] - 1s 310us/sample - loss: 0.8261 - accuracy: 0.6272\n",
      "Epoch 8/10\n",
      "3613/3613 [==============================] - 1s 377us/sample - loss: 0.8161 - accuracy: 0.6333\n",
      "Epoch 9/10\n",
      "3613/3613 [==============================] - 2s 514us/sample - loss: 0.8035 - accuracy: 0.6477\n",
      "Epoch 10/10\n",
      "3613/3613 [==============================] - 2s 525us/sample - loss: 0.7898 - accuracy: 0.6474\n"
     ]
    }
   ],
   "source": [
    "# training model 3\n",
    "# model 2\n",
    "# Build the model \n",
    "\n",
    "max_length = 7 # changed max length\n",
    "padded_sequences = pad_sequences(sequences, maxlen=max_length)\n",
    "\n",
    "model_3 = Sequential([\n",
    "    Embedding(input_dim=500, output_dim=128, input_length=max_length),\n",
    "    LSTM(64, return_sequences=True),\n",
    "    Dropout(0.2), # changed the dropout\n",
    "    LSTM(32),\n",
    "    Dense(4, activation='softmax') ]) # 4 classes: joy, sadness, anger, fear ])\n",
    "\n",
    "model_3.compile(optimizer='adam', loss='sparse_categorical_crossentropy', metrics=['accuracy'])\n",
    "# Train the model \n",
    "history = model_3.fit(padded_sequences, train_label_enc, epochs=10, batch_size=32)"
   ]
  },
  {
   "cell_type": "code",
   "execution_count": 78,
   "metadata": {},
   "outputs": [
    {
     "data": {
      "image/png": "[encoded data removed]",
      "text/plain": [
       "<Figure size 432x288 with 2 Axes>"
      ]
     },
     "metadata": {
      "needs_background": "light"
     },
     "output_type": "display_data"
    },
    {
     "name": "stdout",
     "output_type": "stream",
     "text": [
      "Validation Accuracy: 0.7579250720461095\n"
     ]
    }
   ],
   "source": [
    "# confusion matrix for model 3\n",
    "\n",
    "val_padded = pad_sequences(valid_label_enc, maxlen=max_length)\n",
    "val_predictions = model_3.predict(val_padded)\n",
    "val_labels = valid_label_enc  \n",
    "\n",
    "from sklearn.metrics import confusion_matrix, accuracy_score\n",
    "import seaborn as sns\n",
    "\n",
    "# Confusion matrix \n",
    "conf_matrix = confusion_matrix(val_labels, val_predictions.argmax(axis=1))\n",
    "sns.heatmap(conf_matrix, annot=True, fmt='d', cmap='Blues')\n",
    "plt.xlabel('Predicted')\n",
    "plt.ylabel('True')\n",
    "plt.title('Validation Confusion Matrix')\n",
    "plt.show()\n",
    "# Validation accuracy \n",
    "val_accuracy = accuracy_score(val_labels, val_predictions.argmax(axis=1))\n",
    "print(\"Validation Accuracy:\", val_accuracy)"
   ]
  },
  {
   "cell_type": "code",
   "execution_count": null,
   "metadata": {},
   "outputs": [],
   "source": []
  },
  {
   "cell_type": "code",
   "execution_count": null,
   "metadata": {},
   "outputs": [],
   "source": []
  },
  {
   "cell_type": "code",
   "execution_count": null,
   "metadata": {},
   "outputs": [],
   "source": []
  },
  {
   "cell_type": "code",
   "execution_count": null,
   "metadata": {},
   "outputs": [],
   "source": []
  }
 ],
 "metadata": {
  "kernelspec": {
   "display_name": "Python 3",
   "language": "python",
   "name": "python3"
  },
  "language_info": {
   "codemirror_mode": {
    "name": "ipython",
    "version": 3
   },
   "file_extension": ".py",
   "mimetype": "text/x-python",
   "name": "python",
   "nbconvert_exporter": "python",
   "pygments_lexer": "ipython3",
   "version": "3.7.16"
  }
 },
 "nbformat": 4,
 "nbformat_minor": 4
}
